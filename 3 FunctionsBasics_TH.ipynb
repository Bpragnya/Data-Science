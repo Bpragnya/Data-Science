{
 "cells": [
  {
   "cell_type": "markdown",
   "id": "4d969266",
   "metadata": {},
   "source": [
    "\n",
    "## Assignment3 Ans (Candidate_name: Pragnya Boosani)"
   ]
  },
  {
   "cell_type": "raw",
   "id": "5ac4e7e9",
   "metadata": {},
   "source": [
    "1. Why are functions advantageous to have in your programs\n",
    "Ans: Code Resuasble, Code Extension, Understandable, easy to debug and Easy Maintainance"
   ]
  },
  {
   "cell_type": "raw",
   "id": "648d3133",
   "metadata": {},
   "source": [
    "2. When does the code in a function run: when it's specified or when it's called?\n",
    "And: When its called"
   ]
  },
  {
   "cell_type": "raw",
   "id": "91d6b223",
   "metadata": {},
   "source": [
    "3. What statement creates a function?\n",
    "Ans: def <function_name>(args*):"
   ]
  },
  {
   "cell_type": "raw",
   "id": "0a22215c",
   "metadata": {},
   "source": [
    "4. What is the difference between a function and a function call?\n",
    "Ans: Function consists of multiple line code which is to be evaluated with the given values as params where as Function call is a single line code which initiates the funtion and performs all the tasks step by step mentioned in the function with the given params."
   ]
  },
  {
   "cell_type": "raw",
   "id": "06f11581",
   "metadata": {},
   "source": [
    "5. How many global scopes are there in a Python program? How many local scopes?\n",
    "Ans: no subtypes only Global and Local itself are two of those scopes"
   ]
  },
  {
   "cell_type": "raw",
   "id": "d4b0a77c",
   "metadata": {},
   "source": [
    "6. What happens to variables in a local scope when the function call returns?\n",
    "Ans: Exhaust"
   ]
  },
  {
   "cell_type": "raw",
   "id": "e96687d8",
   "metadata": {},
   "source": [
    "7. What is the concept of a return value? Is it possible to have a return value in an expression?\n",
    "Ans: REturn val returns the val of result where this fun is called, Yes we can return expression as well but it must generate a single value after evaluation."
   ]
  },
  {
   "cell_type": "raw",
   "id": "d522c184",
   "metadata": {},
   "source": [
    "8. If a function does not have a return statement, what is the return value of a call to that function?\n",
    "Ans: None(NoneType) and eg mentioned below."
   ]
  },
  {
   "cell_type": "code",
   "execution_count": 1,
   "id": "d59b8d82",
   "metadata": {},
   "outputs": [],
   "source": [
    "def my_void():\n",
    "    1+1"
   ]
  },
  {
   "cell_type": "code",
   "execution_count": 4,
   "id": "f92917db",
   "metadata": {},
   "outputs": [
    {
     "data": {
      "text/plain": [
       "NoneType"
      ]
     },
     "execution_count": 4,
     "metadata": {},
     "output_type": "execute_result"
    }
   ],
   "source": [
    "type(my_void())"
   ]
  },
  {
   "cell_type": "raw",
   "id": "76d97b86",
   "metadata": {},
   "source": [
    "9. How do you make a function variable refer to the global variable?\n",
    "Ans: prefix global to var_name and assign val in next line example below"
   ]
  },
  {
   "cell_type": "code",
   "execution_count": 10,
   "id": "3b5c6a29",
   "metadata": {},
   "outputs": [
    {
     "name": "stdout",
     "output_type": "stream",
     "text": [
      "f val initially 101\n",
      "global variable f val: 999\n",
      "after fun call f val finnally is: 999\n"
     ]
    }
   ],
   "source": [
    "f = 101;\n",
    "print(\"f val initially\",f)\n",
    "# Global vs.local variables in functions\n",
    "def someFunction():\n",
    "    global f\n",
    "    f=999\n",
    "    print(\"global variable f val:\",f)\n",
    "    \n",
    "someFunction()\n",
    "print(\"after fun call f val finnally is:\",f)"
   ]
  },
  {
   "cell_type": "raw",
   "id": "ef65b1d7",
   "metadata": {},
   "source": [
    "0. What is the data type of None?\n",
    "Ans: None is an Object in python and its type is none type. Simply None means Empty Object in python"
   ]
  },
  {
   "cell_type": "raw",
   "id": "e0c2ac43",
   "metadata": {},
   "source": [
    "11. What does the sentence import areallyourpetsnamederic do?\n",
    "Ans: imports 'areallyourpetsnamederic' module ONLY IF ALREADY INSTALLED IN YOUR SYSTEM ELSE THROWS AN ERROR MODULE DOESNOT EXISTS, THEN U NEED TO INSTALL THE MODULE AND IMPORT LATER"
   ]
  },
  {
   "cell_type": "raw",
   "id": "1a6a3dcd",
   "metadata": {},
   "source": [
    "12. If you had a bacon() feature in a spam module, what would you call it after importing spam?\n",
    "Ans: spam.bacon()"
   ]
  },
  {
   "cell_type": "raw",
   "id": "9d364fb4",
   "metadata": {},
   "source": [
    "13. What can you do to save a programme from crashing if it encounters an error?\n",
    "Ans: Interupt and Restart the Kernal"
   ]
  },
  {
   "cell_type": "raw",
   "id": "7f1e9c76",
   "metadata": {},
   "source": [
    "14. What is the purpose of the try clause? What is the purpose of the except clause?\n",
    "Ans: Try clause contains a code where the exception may raise and except(similar to catch in JAva/PHP) clause is used to handle the exception mentioned against.\n"
   ]
  },
  {
   "cell_type": "code",
   "execution_count": null,
   "id": "80cac342",
   "metadata": {},
   "outputs": [],
   "source": []
  },
  {
   "cell_type": "code",
   "execution_count": null,
   "id": "6df0bb81",
   "metadata": {},
   "outputs": [],
   "source": []
  },
  {
   "cell_type": "code",
   "execution_count": null,
   "id": "e074fc01",
   "metadata": {},
   "outputs": [],
   "source": []
  }
 ],
 "metadata": {
  "kernelspec": {
   "display_name": "Python 3 (ipykernel)",
   "language": "python",
   "name": "python3"
  },
  "language_info": {
   "codemirror_mode": {
    "name": "ipython",
    "version": 3
   },
   "file_extension": ".py",
   "mimetype": "text/x-python",
   "name": "python",
   "nbconvert_exporter": "python",
   "pygments_lexer": "ipython3",
   "version": "3.9.7"
  }
 },
 "nbformat": 4,
 "nbformat_minor": 5
}
