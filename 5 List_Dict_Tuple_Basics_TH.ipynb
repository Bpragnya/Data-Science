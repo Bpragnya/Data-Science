{
 "cells": [
  {
   "cell_type": "markdown",
   "id": "4f7f0cb9",
   "metadata": {},
   "source": [
    "## Assignment5 Ans (Condidate_name: Boosani Pragnya)"
   ]
  },
  {
   "cell_type": "raw",
   "id": "758b1327",
   "metadata": {},
   "source": [
    "1. What does an empty dictionary's code look like?\n",
    "Ans: empty set (as both dictionary and set are enclosed in {})"
   ]
  },
  {
   "cell_type": "raw",
   "id": "0d6f797b",
   "metadata": {},
   "source": [
    "2. What is the value of a dictionary value with the key 'foo' and the value 42?\n",
    "Ans: d={'foo':42}"
   ]
  },
  {
   "cell_type": "raw",
   "id": "bfbd23b8",
   "metadata": {},
   "source": [
    "3. What is the most significant distinction between a dictionary and a list?\n",
    "Ans: Dictionary : collection with key and value pair\n",
    "List : collection with only values"
   ]
  },
  {
   "cell_type": "raw",
   "id": "afa02a10",
   "metadata": {},
   "source": [
    "4. What happens if you try to access spam['foo'] if spam is {'bar': 100}?\n",
    "Ans: Key error :invalid key"
   ]
  },
  {
   "cell_type": "raw",
   "id": "8e5aa89a",
   "metadata": {},
   "source": [
    "5. If a dictionary is stored in spam, what is the difference between the expressions 'cat' in spam and 'cat' in spam.keys()?\n",
    "Ans: value in dict and value in VIEW OBJECT ARRAY"
   ]
  },
  {
   "cell_type": "raw",
   "id": "af0d9458",
   "metadata": {},
   "source": [
    "6. If a dictionary is stored in spam, what is the difference between the expressions 'cat' in spam and 'cat' in spam.values()?\n",
    "Ans: VAlue in dict and value in VIEW OBJECT ARRAY"
   ]
  },
  {
   "cell_type": "raw",
   "id": "4123d9d6",
   "metadata": {},
   "source": [
    "7. What is a shortcut for the following code?\n",
    "if 'color' not in spam:\n",
    "spam['color'] = 'black'"
   ]
  },
  {
   "cell_type": "code",
   "execution_count": 1,
   "id": "6279f45d",
   "metadata": {},
   "outputs": [
    {
     "data": {
      "text/plain": [
       "{'col': 42, 'bar': 100, 'color': 'black'}"
      ]
     },
     "execution_count": 1,
     "metadata": {},
     "output_type": "execute_result"
    }
   ],
   "source": [
    "d={'col':42,'bar': 100}\n",
    "d['color']=d.get('color') if d.get('color') else 'black'\n",
    "d"
   ]
  },
  {
   "cell_type": "code",
   "execution_count": null,
   "id": "560e50cc",
   "metadata": {},
   "outputs": [],
   "source": [
    "8. How do you \"pretty print\" dictionary values using which module and function?\n"
   ]
  },
  {
   "cell_type": "code",
   "execution_count": 18,
   "id": "f146d81d",
   "metadata": {},
   "outputs": [
    {
     "name": "stdout",
     "output_type": "stream",
     "text": [
      "dic val  {'name': 'Pragnya', 'age': 20, 'gender': 'female', 'hobbies': ['Singing', 'Watching TV']}\n",
      "\n",
      "dict val using pprint module\n",
      "{'age': 20,\n",
      " 'gender': 'female',\n",
      " 'hobbies': ['Singing', 'Watching TV'],\n",
      " 'name': 'Pragnya'}\n",
      "\n",
      "dict val using json module\n",
      "{\n",
      "    \"name\": \"Pragnya\",\n",
      "    \"age\": 20,\n",
      "    \"gender\": \"female\",\n",
      "    \"hobbies\": [\n",
      "        \"Singing\",\n",
      "        \"Watching TV\"\n",
      "    ]\n",
      "}\n"
     ]
    }
   ],
   "source": [
    "# Pretty Print a Dictionary using pprint\n",
    "import pprint\n",
    "import json\n",
    "\n",
    "sample_dict = {'name': 'Pragnya', 'age': 20, 'gender': 'female', 'hobbies': ['Singing', 'Watching TV']}\n",
    "print(\"dic val  \",sample_dict)\n",
    "print(\"\\ndict val using pprint module\")\n",
    "pprint.pprint(sample_dict)\n",
    "print(\"\\ndict val using json module\")\n",
    "print(json.dumps(sample_dict,indent=4))"
   ]
  },
  {
   "cell_type": "code",
   "execution_count": null,
   "id": "5368cdae",
   "metadata": {},
   "outputs": [],
   "source": []
  },
  {
   "cell_type": "code",
   "execution_count": null,
   "id": "3fe7fa60",
   "metadata": {},
   "outputs": [],
   "source": []
  }
 ],
 "metadata": {
  "kernelspec": {
   "display_name": "Python 3 (ipykernel)",
   "language": "python",
   "name": "python3"
  },
  "language_info": {
   "codemirror_mode": {
    "name": "ipython",
    "version": 3
   },
   "file_extension": ".py",
   "mimetype": "text/x-python",
   "name": "python",
   "nbconvert_exporter": "python",
   "pygments_lexer": "ipython3",
   "version": "3.9.7"
  }
 },
 "nbformat": 4,
 "nbformat_minor": 5
}
