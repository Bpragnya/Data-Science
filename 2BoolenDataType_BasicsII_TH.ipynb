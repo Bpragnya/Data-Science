{
 "cells": [
  {
   "cell_type": "markdown",
   "id": "cc888654",
   "metadata": {},
   "source": [
    "# # Assignment2 Anweres (candidate_name: Pragnya Boosani)"
   ]
  },
  {
   "cell_type": "raw",
   "id": "eb8806a4",
   "metadata": {},
   "source": [
    "1.What are the two values of the Boolean data type? How do you write them?\n",
    "Ans: True and False"
   ]
  },
  {
   "cell_type": "raw",
   "id": "2d6643bb",
   "metadata": {},
   "source": [
    "2. What are the three different types of Boolean operators?\n",
    "Ans: And , Or and Not\n",
    "\n"
   ]
  },
  {
   "cell_type": "raw",
   "id": "10bdb3a6",
   "metadata": {},
   "source": [
    "3. Make a list of each Boolean operator's truth tables (i.e. every possible combination of Boolean values for the operator and what it evaluate ).\n",
    "\n",
    "AND          OR          NOT\n",
    "X Y X+Y      X Y X.Y     X X'\n",
    "0 0 0        0 0 0       0 1\n",
    "0 1 0        0 1 1       1 0\n",
    "1 0 0        1 0 1\n",
    "1 1 1        1 1 1"
   ]
  },
  {
   "cell_type": "raw",
   "id": "a8c3391f",
   "metadata": {},
   "source": [
    "4. What are the values of the following expressions?\n",
    "(5 > 4) and (3 == 5)  => False\n",
    "not (5 > 4)  => False\n",
    "(5 > 4) or (3 == 5)  => True\n",
    "not ((5 > 4) or (3 == 5))  => False\n",
    "(True and True) and (True == False)  ==> False\n",
    "(not False) or (not True)  => True"
   ]
  },
  {
   "cell_type": "raw",
   "id": "f7105747",
   "metadata": {},
   "source": [
    "5. What are the six comparison operators?\n",
    "\n",
    "Ans: >, <, >=, <=, == and !=\n"
   ]
  },
  {
   "cell_type": "raw",
   "id": "98fe3cc9",
   "metadata": {},
   "source": [
    "6. How do you tell the difference between the equal to and assignment operators?Describe a condition and when you would use one.\n",
    "\n",
    "Ans: Assigment operators are used to assign a value to any variable where as equal to is used for comparision between operands(vals/variables).\n",
    "eg: \n",
    "a=10 #assignment\n",
    "a == 11 #comparison"
   ]
  },
  {
   "cell_type": "raw",
   "id": "70039734",
   "metadata": {},
   "source": [
    "7. Identify the three blocks in this code:\n",
    "spam = 0\n",
    "if spam == 10:\n",
    "print('eggs')\n",
    "if spam > 5:\n",
    "print('bacon')\n",
    "else:\n",
    "print('ham')\n",
    "print('spam')\n",
    "print('spam')\n",
    "\n",
    "Ans:\n",
    "spam = 0\n",
    "if spam == 10:\n",
    "    print('eggs')\n",
    "if spam > 5:\n",
    "    print('bacon')\n",
    "else:\n",
    "    print('ham')\n",
    "    print('spam')\n",
    "    print('spam')"
   ]
  },
  {
   "cell_type": "raw",
   "id": "c0da2024",
   "metadata": {},
   "source": [
    "8. Write code that prints Hello if 1 is stored in spam, prints Howdy if 2 is stored in spam, and prints Greetings! if anything else is stored in spam.\n"
   ]
  },
  {
   "cell_type": "code",
   "execution_count": 14,
   "id": "d265b9f2",
   "metadata": {},
   "outputs": [
    {
     "name": "stdout",
     "output_type": "stream",
     "text": [
      "Enter Spam value:0\n",
      "Greetings!\n"
     ]
    }
   ],
   "source": [
    "spam = int(input(\"Enter Spam value:\"))\n",
    "if (spam==1):\n",
    "    print(\"Hello\")\n",
    "elif spam==2:\n",
    "    print(\"Howdy\")\n",
    "else:\n",
    "    print('Greetings!');"
   ]
  },
  {
   "cell_type": "raw",
   "id": "5ab108db",
   "metadata": {},
   "source": [
    "9.If your programme is stuck in an endless loop, what keys you’ll press?\n",
    "Ans: REstart Kernal esc+0+0"
   ]
  },
  {
   "cell_type": "raw",
   "id": "9b3bd7c2",
   "metadata": {},
   "source": [
    "10. How can you tell the difference between break and continue?\n",
    "Ans; Break exit from loop where as continue jumps to next iterator in the loop."
   ]
  },
  {
   "cell_type": "raw",
   "id": "366ba89d",
   "metadata": {},
   "source": [
    "11. In a for loop, what is the difference between range(10), range(0, 10), and range(0, 10, 1)?\n",
    "Ans : all results to same collection."
   ]
  },
  {
   "cell_type": "raw",
   "id": "7b1ed5e4",
   "metadata": {},
   "source": [
    "12. Write a short program that prints the numbers 1 to 10 using a for loop. Then write an equivalent program that prints the numbers 1 to 10 using a while loop.\n"
   ]
  },
  {
   "cell_type": "code",
   "execution_count": 19,
   "id": "e3066bcc",
   "metadata": {},
   "outputs": [
    {
     "name": "stdout",
     "output_type": "stream",
     "text": [
      "1\n",
      "2\n",
      "3\n",
      "4\n",
      "5\n",
      "6\n",
      "7\n",
      "8\n",
      "9\n",
      "10\n"
     ]
    }
   ],
   "source": [
    "for i in range(1,11):\n",
    "    print(i)"
   ]
  },
  {
   "cell_type": "code",
   "execution_count": 22,
   "id": "52883d49",
   "metadata": {},
   "outputs": [
    {
     "name": "stdout",
     "output_type": "stream",
     "text": [
      "1\n",
      "2\n",
      "3\n",
      "4\n",
      "5\n",
      "6\n",
      "7\n",
      "8\n",
      "9\n",
      "10\n"
     ]
    }
   ],
   "source": [
    "i=1\n",
    "while i<=10:\n",
    "    print(i)\n",
    "    i+=1"
   ]
  },
  {
   "cell_type": "raw",
   "id": "552db4af",
   "metadata": {},
   "source": [
    "13. If you had a function named bacon() inside a module named spam, how would you call it after importing spam?\n",
    "Ans: spam.bacon()"
   ]
  },
  {
   "cell_type": "code",
   "execution_count": null,
   "id": "e0020d58",
   "metadata": {},
   "outputs": [],
   "source": []
  }
 ],
 "metadata": {
  "kernelspec": {
   "display_name": "Python 3 (ipykernel)",
   "language": "python",
   "name": "python3"
  },
  "language_info": {
   "codemirror_mode": {
    "name": "ipython",
    "version": 3
   },
   "file_extension": ".py",
   "mimetype": "text/x-python",
   "name": "python",
   "nbconvert_exporter": "python",
   "pygments_lexer": "ipython3",
   "version": "3.9.7"
  }
 },
 "nbformat": 4,
 "nbformat_minor": 5
}
