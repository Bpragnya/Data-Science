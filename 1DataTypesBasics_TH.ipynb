{
 "cells": [
  {
   "cell_type": "markdown",
   "id": "89af14db",
   "metadata": {},
   "source": [
    "# Assignement1 Answeres (candidate_name: Pragnya Boosani)\n"
   ]
  },
  {
   "cell_type": "raw",
   "id": "fcd1fd7a",
   "metadata": {},
   "source": [
    "1. In the below elements which of them are values or an expression? \n",
    "eg:- values can be integer or string or etc where as expressions are mathematical operators.\n",
    "\n",
    "* -> arithemtic operator \n",
    "'hello' -> str value\n",
    "-87.8 -> float val\n",
    "- -> arth operator\n",
    "/ ->artth operator\n",
    "+ ->arth operator\n",
    "6 -> int vl"
   ]
  },
  {
   "cell_type": "raw",
   "id": "55a08aa3",
   "metadata": {},
   "source": [
    "2. What is the difference between string and variable?\n",
    "\n",
    "- Variable is an identifier where we store some values (in memory) it can be any thing like integer/string/float/tuple/list/dict etc. \n",
    "- One exciting thing in python is we can directly assign any type of value to any variable(including python keywords as example shown below but not recommended) whithout mentioning variable type that what kind of value we are going to store unlike Java and other programming languages. \n",
    "- In python once the value is assigned to var eg: a=2 (here 2 val is assigned to var a) immediately memory address is allocated to store value 2.\n",
    "\n",
    "-String is one of the data type."
   ]
  },
  {
   "cell_type": "code",
   "execution_count": 1,
   "id": "b1ba3ff7",
   "metadata": {},
   "outputs": [
    {
     "name": "stdout",
     "output_type": "stream",
     "text": [
      "90\n",
      "<class 'int'>\n"
     ]
    }
   ],
   "source": [
    "str = 90\n",
    "print(str);\n",
    "print(type(str))"
   ]
  },
  {
   "cell_type": "raw",
   "id": "432ea359",
   "metadata": {},
   "source": [
    "3.Describe three different data types.\n",
    "\n",
    "List - Collection, mutable, ordered sequence of elements, can have different types of elements, can have duplicate entries and written in [] braces.\n",
    "Tuple- Collection, Immutable , ordered sequence of elements, can have different types of elements, can have duplicate entries and written in () braces.\n",
    "Dictionary - Collection, Mutable, elements with key and value pair, Unique keys must be there in a collection and written in {}.\n",
    "\n",
    "and other data types are string, integer, float, set and etc.\n",
    "\n",
    "\n",
    "eg: \n",
    "l=[1,2,3,\"prag\",'name',5.8] ##list\n",
    "t=(1,2,'sir',2.90) ##tuple\n",
    "d={\"key1\":\"val1\",'key2':\"val2\"} ##dictionary"
   ]
  },
  {
   "cell_type": "code",
   "execution_count": 29,
   "id": "5a4c9ec1",
   "metadata": {},
   "outputs": [],
   "source": [
    "l=[1,2,3,\"prag\",'name',5.8] ##list\n",
    "t=(1,2,'sir',2.90) ##tuple\n",
    "d={\"key1\":\"val1\",'key2':\"val2\"} ##dictionary"
   ]
  },
  {
   "cell_type": "raw",
   "id": "287751d3",
   "metadata": {},
   "source": [
    "4. What is an expression made up of? What do all expressions do?\n",
    "\n",
    "Expression is made of operands(variable/constant val) and operators.\n",
    "Expressions evaluates the value based on the given inputs.\n",
    "eg: \n",
    "a=10\n",
    "b=20\n",
    "a=a+1 #performs inc operation and reassign back to 'a' variable\n",
    "c=a*b #evaluates by multiplying a and b vals and stores in 'c' var"
   ]
  },
  {
   "cell_type": "raw",
   "id": "40badda3",
   "metadata": {},
   "source": [
    "5. This assignment statements, like spam = 10. What is the difference between an expression and a statement?\n",
    "\n",
    "a=10 is just an assignment statement it doesnot evaluates any thing but just assigns 10 val to var 'a'\n",
    "where as c=a*b (expression) does logical operation of multiplication and assign the result to var c"
   ]
  },
  {
   "cell_type": "raw",
   "id": "2e93067d",
   "metadata": {},
   "source": [
    "6. After running the following code, what does the variable bacon contain?\n",
    "\n",
    "bacon = 22\n",
    "bacon + 1\n",
    "\n",
    "Ans: bacon contains 22 \n"
   ]
  },
  {
   "cell_type": "raw",
   "id": "4c7b69c2",
   "metadata": {},
   "source": [
    "7. What should the values of the following two terms be?\n",
    "'spam' + 'spamspam' \n",
    "'spam' * 3\n",
    "\n",
    "ANs: both will result with the same output 'spamspamspam'"
   ]
  },
  {
   "cell_type": "raw",
   "id": "94fc2fcb",
   "metadata": {},
   "source": [
    "8. Why is eggs a valid variable name while 100 is invalid?\n",
    "\n",
    "Ans: There are few rules which must be followed while creating a variable name in any of the programing languages:\n",
    "rule 1: starts with alphabet or '_'.\n",
    "rule 2: variable name can be alphanumeric, however doesnot not starts with number.\n",
    "rule 3: reserved keywords are not allowed\n"
   ]
  },
  {
   "cell_type": "raw",
   "id": "e6bf636f",
   "metadata": {},
   "source": [
    "9. What three functions can be used to get the integer, floating-point number, or string version of a value?\n",
    "\n",
    "Ans: int(), float() and str()"
   ]
  },
  {
   "cell_type": "raw",
   "id": "fca0f7b5",
   "metadata": {},
   "source": [
    "10. Why does this expression cause an error? How can you fix it?\n",
    "'I have eaten ' + 99 + ' burritos.'\n",
    "\n",
    "Ans: As the first element in the statement contains string it will try to concatenate the following elements to it however it receives integer so cannot concatenate integer to a string. \n",
    "\n",
    "\"we can only concatenate string to string or int to int (acts as sum(plus) w.r.t integers) but str with int are not allowed\".\n",
    "\n",
    "In order to concatenate whole the given stmt then u can convert all the int to str and try again\n",
    "eg: 'I have eaten ' + '99' + ' burritos.'"
   ]
  },
  {
   "cell_type": "code",
   "execution_count": 3,
   "id": "8d55ea59",
   "metadata": {},
   "outputs": [
    {
     "data": {
      "text/plain": [
       "'I have eaten 99 burritos.'"
      ]
     },
     "execution_count": 3,
     "metadata": {},
     "output_type": "execute_result"
    }
   ],
   "source": [
    "'I have eaten ' + '99' + ' burritos.'"
   ]
  },
  {
   "cell_type": "code",
   "execution_count": null,
   "id": "b6fbeff8",
   "metadata": {},
   "outputs": [],
   "source": []
  }
 ],
 "metadata": {
  "kernelspec": {
   "display_name": "Python 3 (ipykernel)",
   "language": "python",
   "name": "python3"
  },
  "language_info": {
   "codemirror_mode": {
    "name": "ipython",
    "version": 3
   },
   "file_extension": ".py",
   "mimetype": "text/x-python",
   "name": "python",
   "nbconvert_exporter": "python",
   "pygments_lexer": "ipython3",
   "version": "3.9.7"
  }
 },
 "nbformat": 4,
 "nbformat_minor": 5
}
