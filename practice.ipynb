{
 "cells": [
  {
   "cell_type": "markdown",
   "id": "e9d8065e",
   "metadata": {},
   "source": [
    "# Practise"
   ]
  },
  {
   "cell_type": "code",
   "execution_count": 70,
   "id": "49142c0a",
   "metadata": {},
   "outputs": [
    {
     "name": "stdout",
     "output_type": "stream",
     "text": [
      "pragnya \n",
      "\n",
      "pragnya pragnya \n",
      "\n",
      "pragnya pragnya pragnya \n",
      "\n",
      "pragnya pragnya pragnya pragnya \n",
      "\n",
      "pragnya pragnya pragnya pragnya pragnya \n",
      "\n"
     ]
    }
   ],
   "source": [
    "n=5\n",
    "name=\"pragnya\"\n",
    "for i in range(n):\n",
    "    for j in range(i+1):\n",
    "        print(name, end=\" \")\n",
    "    print(\"\\n\")"
   ]
  },
  {
   "cell_type": "code",
   "execution_count": 51,
   "id": "2b7a477d",
   "metadata": {},
   "outputs": [
    {
     "name": "stdout",
     "output_type": "stream",
     "text": [
      "3\n",
      "3\n"
     ]
    }
   ],
   "source": [
    "t=(\"sud\",'kum',[1,2,3],(1,3,4))\n",
    "for i in t :\n",
    "    if type(i)==list or type(i)==tuple:\n",
    "        for j in i:\n",
    "            if j==3: \n",
    "                print(j)\n",
    "            \n",
    "        \n",
    "        "
   ]
  },
  {
   "cell_type": "code",
   "execution_count": 51,
   "id": "b3fbe013",
   "metadata": {},
   "outputs": [
    {
     "name": "stdout",
     "output_type": "stream",
     "text": [
      "                        ineuron         \n",
      "                ineuron         ineuron         \n",
      "        ineuron         ineuron         ineuron         \n",
      "ineuron         ineuron         ineuron         ineuron         \n",
      "        ineuron         ineuron         ineuron \n",
      "\n",
      "               ineuron                ineuron \n",
      "\n",
      "                      ineuron \n",
      "\n"
     ]
    }
   ],
   "source": [
    "import math\n",
    "\n",
    "n2=7\n",
    "str=\"ineuron\"\n",
    "middle=math.floor(n2/2) if n2%2==0 else math.ceil(n2/2)\n",
    "# first half\n",
    "for l in range(1,n2+1):\n",
    "    if l<=middle:\n",
    "        k=middle-l\n",
    "        for i in range(k):\n",
    "            print(\" \"*len(str),end=\" \")\n",
    "        print((str+\" \"+\" \"*len(str)+\" \")*l)\n",
    "    else: # last half in reverse order\n",
    "        r_spc=l-middle\n",
    "        r= n2-l+1 #(5+1-4,5+1-5)\n",
    "        for r2 in range(r):\n",
    "            print(\" \"*len(str)*r_spc,str,end= \" \")\n",
    "        print(\"\\n\")\n",
    "# print(\"\\n\")\n",
    "\n",
    "\n",
    "    \n"
   ]
  },
  {
   "cell_type": "code",
   "execution_count": 35,
   "id": "9ee4e325",
   "metadata": {},
   "outputs": [
    {
     "name": "stdout",
     "output_type": "stream",
     "text": [
      "[[1, 2, 3, 4], (2, 3, 4, 5, 6), (3, 4, 5, 6, 7), {45, 4, 5, 23}, {'k1': 'sudh', 'k2': 'ineuron', 'k3': 'kumar', 3: 6, 7: 8}, ['ineuron', 'data science']]\n"
     ]
    }
   ],
   "source": [
    "list1=[[1,2,3,4],(2,3,4,5,6),(3,4,5,6,7), set([23,4,5,45,4,4,5,45,45,4,5]), {'k1':\"sudh\",'k2':\"ineuron\",'k3':\"kumar\",3:6,7:8},\n",
    "['ineuron',\"data science\"]]\n",
    "print(list1)"
   ]
  },
  {
   "cell_type": "code",
   "execution_count": 22,
   "id": "7e3de1e6",
   "metadata": {},
   "outputs": [
    {
     "name": "stdout",
     "output_type": "stream",
     "text": [
      "[1, 2, 3, 4]\n",
      "(2, 3, 4, 5, 6)\n",
      "(3, 4, 5, 6, 7)\n",
      "{45, 4, 5, 23}\n",
      "{'k1': 'sudh', 'k2': 'ineuron', 'k3': 'kumar', 3: 6, 7: 8}\n",
      "['ineuron', 'data science']\n"
     ]
    }
   ],
   "source": [
    "for i in list1:\n",
    "    print(i)"
   ]
  },
  {
   "cell_type": "code",
   "execution_count": 324,
   "id": "09bc5e17",
   "metadata": {},
   "outputs": [
    {
     "name": "stdout",
     "output_type": "stream",
     "text": [
      "10\n",
      "11\n",
      "12\n",
      "13\n",
      "14\n",
      "15\n",
      "16\n",
      "17\n",
      "18\n",
      "19\n",
      "20\n",
      "elsr block\n"
     ]
    }
   ],
   "source": [
    "a=10\n",
    "b=20\n",
    "while a<=b:\n",
    "    print(a)\n",
    "    a=a+1\n",
    "else:\n",
    "    print(\"elsr block\")"
   ]
  },
  {
   "cell_type": "code",
   "execution_count": 1,
   "id": "95621d9d",
   "metadata": {},
   "outputs": [],
   "source": [
    "t=(6,4,5,6,7,8,6)"
   ]
  },
  {
   "cell_type": "code",
   "execution_count": 3,
   "id": "b9289909",
   "metadata": {},
   "outputs": [
    {
     "name": "stdout",
     "output_type": "stream",
     "text": [
      "index of  6  is  -1\n",
      "index of  7  is  -3\n",
      "index of  6  is  -4\n",
      "index of  6  is  -7\n"
     ]
    }
   ],
   "source": [
    "a=-1\n",
    "\n",
    "while a>=-len(t):\n",
    "    if t[a]==6 or t[a]==7:\n",
    "        print(\"index of \",t[a],' is ',a)\n",
    "    a=a-1"
   ]
  },
  {
   "cell_type": "code",
   "execution_count": 2,
   "id": "476014b0",
   "metadata": {},
   "outputs": [],
   "source": [
    "d={'k1':\"sudh\",'k2':[1,2,3,4],'k3':(2,3,4,5)}"
   ]
  },
  {
   "cell_type": "code",
   "execution_count": 5,
   "id": "6516a900",
   "metadata": {},
   "outputs": [
    {
     "name": "stdout",
     "output_type": "stream",
     "text": [
      "sudh\n",
      "[1, 2, 3, 4]\n",
      "(2, 3, 4, 5)\n"
     ]
    }
   ],
   "source": [
    "a=0\n",
    "b=list(d.keys())\n",
    "while a<len(d):\n",
    "    print(d[b[a]])\n",
    "    a=a+1"
   ]
  },
  {
   "cell_type": "code",
   "execution_count": 9,
   "id": "6f33c1fd",
   "metadata": {},
   "outputs": [
    {
     "data": {
      "text/plain": [
       "[4, 5, 7, 1, 2, 3]"
      ]
     },
     "execution_count": 9,
     "metadata": {},
     "output_type": "execute_result"
    }
   ],
   "source": [
    "l=[4,5,7,[1,2,3],\"sudh\"]\n",
    "def extractint(l):\n",
    "    return_list=[]\n",
    "    for i in l:\n",
    "        if type(i)==int:\n",
    "            return_list.append(i)\n",
    "        if type(i)==tuple or type(i)==list:\n",
    "            for j in i:\n",
    "                return_list.append(j)\n",
    "            \n",
    "    return return_list\n",
    "\n",
    "extractint(l)"
   ]
  },
  {
   "cell_type": "code",
   "execution_count": 71,
   "id": "c2ac75dd",
   "metadata": {},
   "outputs": [
    {
     "name": "stdout",
     "output_type": "stream",
     "text": [
      "['pr', 'gny', '']\n",
      "no\n"
     ]
    },
    {
     "ename": "TypeError",
     "evalue": "count() takes at least 1 argument (0 given)",
     "output_type": "error",
     "traceback": [
      "\u001b[1;31m---------------------------------------------------------------------------\u001b[0m",
      "\u001b[1;31mTypeError\u001b[0m                                 Traceback (most recent call last)",
      "\u001b[1;32m~\\AppData\\Local\\Temp/ipykernel_22716/3642384166.py\u001b[0m in \u001b[0;36m<module>\u001b[1;34m\u001b[0m\n\u001b[0;32m      6\u001b[0m \u001b[1;32melse\u001b[0m\u001b[1;33m:\u001b[0m\u001b[1;33m\u001b[0m\u001b[1;33m\u001b[0m\u001b[0m\n\u001b[0;32m      7\u001b[0m     \u001b[0mprint\u001b[0m\u001b[1;33m(\u001b[0m\u001b[1;34m\"no\"\u001b[0m\u001b[1;33m)\u001b[0m\u001b[1;33m\u001b[0m\u001b[1;33m\u001b[0m\u001b[0m\n\u001b[1;32m----> 8\u001b[1;33m \u001b[0mmatch_str\u001b[0m\u001b[1;33m.\u001b[0m\u001b[0mcount\u001b[0m\u001b[1;33m(\u001b[0m\u001b[1;33m)\u001b[0m\u001b[1;33m\u001b[0m\u001b[1;33m\u001b[0m\u001b[0m\n\u001b[0m",
      "\u001b[1;31mTypeError\u001b[0m: count() takes at least 1 argument (0 given)"
     ]
    }
   ],
   "source": [
    "match_str='pragnya'\n",
    "# match_str2=\"ineuron\"\n",
    "print(match_str.split('a'))\n",
    "if type(match_str) == str:\n",
    "    print(match_str)\n",
    "else:\n",
    "    print(\"no\")\n",
    "match_str.count()"
   ]
  },
  {
   "cell_type": "code",
   "execution_count": 77,
   "id": "7ea9c84e",
   "metadata": {},
   "outputs": [
    {
     "data": {
      "text/plain": [
       "datetime.time(17, 53, 8, 303844)"
      ]
     },
     "execution_count": 77,
     "metadata": {},
     "output_type": "execute_result"
    }
   ],
   "source": [
    "import datetime\n",
    "datetime.datetime.now().time()"
   ]
  },
  {
   "cell_type": "code",
   "execution_count": 84,
   "id": "00438fa3",
   "metadata": {},
   "outputs": [],
   "source": [
    "def test(a,b):\n",
    "    '''this is my function for string concatination and number addition (DOC string which shows in fun defination hover shift+TAb)'''\n",
    "    return a+b"
   ]
  },
  {
   "cell_type": "code",
   "execution_count": 80,
   "id": "9c686939",
   "metadata": {},
   "outputs": [
    {
     "data": {
      "text/plain": [
       "10"
      ]
     },
     "execution_count": 80,
     "metadata": {},
     "output_type": "execute_result"
    }
   ],
   "source": [
    "test(4,6)"
   ]
  },
  {
   "cell_type": "code",
   "execution_count": 82,
   "id": "22c66fa9",
   "metadata": {},
   "outputs": [
    {
     "data": {
      "text/plain": [
       "'PragnyaBoosani'"
      ]
     },
     "execution_count": 82,
     "metadata": {},
     "output_type": "execute_result"
    }
   ],
   "source": [
    "test(\"Pragnya\",\"Boosani\")"
   ]
  },
  {
   "cell_type": "code",
   "execution_count": 83,
   "id": "59ecc378",
   "metadata": {},
   "outputs": [
    {
     "data": {
      "text/plain": [
       "19"
      ]
     },
     "execution_count": 83,
     "metadata": {},
     "output_type": "execute_result"
    }
   ],
   "source": [
    "test(b=9,a=10)"
   ]
  },
  {
   "cell_type": "code",
   "execution_count": 85,
   "id": "0a463bf2",
   "metadata": {},
   "outputs": [
    {
     "name": "stdout",
     "output_type": "stream",
     "text": [
      "\n"
     ]
    }
   ],
   "source": [
    "print()"
   ]
  },
  {
   "cell_type": "code",
   "execution_count": 86,
   "id": "419bf83e",
   "metadata": {},
   "outputs": [],
   "source": [
    "def test1(a,b,c,d,e):\n",
    "    return a,b,c,d,e"
   ]
  },
  {
   "cell_type": "code",
   "execution_count": 91,
   "id": "224da805",
   "metadata": {},
   "outputs": [
    {
     "data": {
      "text/plain": [
       "(2, 3, 4, 5, 6)"
      ]
     },
     "execution_count": 91,
     "metadata": {},
     "output_type": "execute_result"
    }
   ],
   "source": [
    "test1(2,3,4,5,6)"
   ]
  },
  {
   "cell_type": "code",
   "execution_count": 92,
   "id": "544efba2",
   "metadata": {},
   "outputs": [],
   "source": [
    "def test5(*a):\n",
    "    l=[]\n",
    "    for i in a:\n",
    "        l.append(i)\n",
    "    return l"
   ]
  },
  {
   "cell_type": "code",
   "execution_count": 93,
   "id": "b20707be",
   "metadata": {},
   "outputs": [
    {
     "data": {
      "text/plain": [
       "[2, 3, 4, [4, 8]]"
      ]
     },
     "execution_count": 93,
     "metadata": {},
     "output_type": "execute_result"
    }
   ],
   "source": [
    "test5(2,3,4,[4,8])"
   ]
  },
  {
   "cell_type": "code",
   "execution_count": 97,
   "id": "93f89eec",
   "metadata": {},
   "outputs": [],
   "source": [
    "def test6(a,b,c,d, *m):\n",
    "    return a,b,c,d,m"
   ]
  },
  {
   "cell_type": "code",
   "execution_count": 99,
   "id": "99d6d9bf",
   "metadata": {},
   "outputs": [
    {
     "data": {
      "text/plain": [
       "(3, 4, 55, 66, (89, 898))"
      ]
     },
     "execution_count": 99,
     "metadata": {},
     "output_type": "execute_result"
    }
   ],
   "source": [
    "test6(3,4,55,66,89,898)"
   ]
  },
  {
   "cell_type": "code",
   "execution_count": 101,
   "id": "01b66dc4",
   "metadata": {},
   "outputs": [],
   "source": [
    "def test7(*m,a,b,c,d):\n",
    "    return m,a,b,c,d"
   ]
  },
  {
   "cell_type": "code",
   "execution_count": 105,
   "id": "151e9b9d",
   "metadata": {},
   "outputs": [
    {
     "data": {
      "text/plain": [
       "((2, 3, 4, 4, 8), 9, 3, 5, 8)"
      ]
     },
     "execution_count": 105,
     "metadata": {},
     "output_type": "execute_result"
    }
   ],
   "source": [
    "test7(2, 3, 4, 4, 8,a=9,b=3,c=5,d=8)"
   ]
  },
  {
   "cell_type": "code",
   "execution_count": 106,
   "id": "a04a9a4e",
   "metadata": {},
   "outputs": [],
   "source": [
    "def test10(*m):\n",
    "    n=1\n",
    "    for i in m:\n",
    "        if type(i)==int:\n",
    "            n=n*i\n",
    "    return n"
   ]
  },
  {
   "cell_type": "code",
   "execution_count": 107,
   "id": "f6616dcf",
   "metadata": {},
   "outputs": [
    {
     "data": {
      "text/plain": [
       "24"
      ]
     },
     "execution_count": 107,
     "metadata": {},
     "output_type": "execute_result"
    }
   ],
   "source": [
    "test10(2,3,4)"
   ]
  },
  {
   "cell_type": "code",
   "execution_count": 110,
   "id": "17f371f9",
   "metadata": {},
   "outputs": [],
   "source": [
    "n= lambda a,b:a+b"
   ]
  },
  {
   "cell_type": "code",
   "execution_count": 111,
   "id": "7a10cfbc",
   "metadata": {},
   "outputs": [
    {
     "data": {
      "text/plain": [
       "9"
      ]
     },
     "execution_count": 111,
     "metadata": {},
     "output_type": "execute_result"
    }
   ],
   "source": [
    "n(4,5)"
   ]
  },
  {
   "cell_type": "code",
   "execution_count": 108,
   "id": "933b22b3",
   "metadata": {},
   "outputs": [],
   "source": [
    "b= lambda *m:m"
   ]
  },
  {
   "cell_type": "code",
   "execution_count": 109,
   "id": "1fb6269a",
   "metadata": {
    "scrolled": true
   },
   "outputs": [
    {
     "data": {
      "text/plain": [
       "(3, 5, 7)"
      ]
     },
     "execution_count": 109,
     "metadata": {},
     "output_type": "execute_result"
    }
   ],
   "source": [
    "b(3,5,7)"
   ]
  },
  {
   "cell_type": "code",
   "execution_count": 114,
   "id": "91b7a2e8",
   "metadata": {},
   "outputs": [],
   "source": [
    "lm=lambda *x:[i for i in x]"
   ]
  },
  {
   "cell_type": "code",
   "execution_count": 115,
   "id": "af0dd6d9",
   "metadata": {},
   "outputs": [
    {
     "data": {
      "text/plain": [
       "[1, 2, 3, 4]"
      ]
     },
     "execution_count": 115,
     "metadata": {},
     "output_type": "execute_result"
    }
   ],
   "source": [
    "lm(1,2,3,4)"
   ]
  },
  {
   "cell_type": "code",
   "execution_count": 112,
   "id": "f998af8e",
   "metadata": {},
   "outputs": [],
   "source": [
    "l=lambda *x :[i**2 for i in x]"
   ]
  },
  {
   "cell_type": "code",
   "execution_count": 113,
   "id": "b8275508",
   "metadata": {},
   "outputs": [
    {
     "data": {
      "text/plain": [
       "[4, 9, 16]"
      ]
     },
     "execution_count": 113,
     "metadata": {},
     "output_type": "execute_result"
    }
   ],
   "source": [
    "l(2,3,4)"
   ]
  },
  {
   "cell_type": "code",
   "execution_count": 17,
   "id": "488a91a9",
   "metadata": {},
   "outputs": [],
   "source": [
    "def test14(**kargs):\n",
    "#     print(kargs)\n",
    "    count=0\n",
    "    for i in kargs.values():\n",
    "#         print(i)\n",
    "#         print(type(i) == str)\n",
    "        if type(i) == str:\n",
    "            count=count+1\n",
    "        if type(i) == list:\n",
    "            for j in i:\n",
    "                if type(j) == str:\n",
    "                    count=count+1\n",
    "    return count\n",
    "            \n",
    "        \n",
    "    "
   ]
  },
  {
   "cell_type": "code",
   "execution_count": 18,
   "id": "9fe3c916",
   "metadata": {},
   "outputs": [
    {
     "data": {
      "text/plain": [
       "5"
      ]
     },
     "execution_count": 18,
     "metadata": {},
     "output_type": "execute_result"
    }
   ],
   "source": [
    "test14(a=7,b=\"prag\",c=\"Boosani\",l=[2,3,\"sudh\",\"kumar\",\"ds\"])"
   ]
  },
  {
   "cell_type": "code",
   "execution_count": 19,
   "id": "7eed533a",
   "metadata": {},
   "outputs": [
    {
     "ename": "SyntaxError",
     "evalue": "invalid syntax (Temp/ipykernel_13792/2927103199.py, line 1)",
     "output_type": "error",
     "traceback": [
      "\u001b[1;36m  File \u001b[1;32m\"C:\\Users\\HP\\AppData\\Local\\Temp/ipykernel_13792/2927103199.py\"\u001b[1;36m, line \u001b[1;32m1\u001b[0m\n\u001b[1;33m    s=(a=7,b=\"prag\",c=\"Boosani\",l=[2,3,\"sudh\",\"kumar\",\"ds\"])\u001b[0m\n\u001b[1;37m        ^\u001b[0m\n\u001b[1;31mSyntaxError\u001b[0m\u001b[1;31m:\u001b[0m invalid syntax\n"
     ]
    }
   ],
   "source": [
    "s=(a=7,b=\"prag\",c=\"Boosani\",l=[2,3,\"sudh\",\"kumar\",\"ds\"])"
   ]
  },
  {
   "cell_type": "code",
   "execution_count": 4,
   "id": "38659887",
   "metadata": {},
   "outputs": [
    {
     "name": "stdout",
     "output_type": "stream",
     "text": [
      "True\n"
     ]
    }
   ],
   "source": [
    "print(s)"
   ]
  },
  {
   "cell_type": "code",
   "execution_count": 20,
   "id": "a7590477",
   "metadata": {},
   "outputs": [
    {
     "data": {
      "text/plain": [
       "[0, 1, 2, 3, 4, 5, 6, 7, 8]"
      ]
     },
     "execution_count": 20,
     "metadata": {},
     "output_type": "execute_result"
    }
   ],
   "source": [
    "[i while]"
   ]
  },
  {
   "cell_type": "code",
   "execution_count": 25,
   "id": "9ed496a9",
   "metadata": {},
   "outputs": [
    {
     "data": {
      "text/plain": [
       "list"
      ]
     },
     "execution_count": 25,
     "metadata": {},
     "output_type": "execute_result"
    }
   ],
   "source": [
    "type(['ppo',2])"
   ]
  },
  {
   "cell_type": "code",
   "execution_count": 27,
   "id": "eea01303",
   "metadata": {},
   "outputs": [
    {
     "name": "stdout",
     "output_type": "stream",
     "text": [
      "datagy\n"
     ]
    }
   ],
   "source": [
    "# Concatenating a String and an Int in Python with +\n",
    "word = 'datagy'\n",
    "integer = 2022\n",
    "new_word = word + str(integer)\n",
    "print(word)"
   ]
  },
  {
   "cell_type": "code",
   "execution_count": 33,
   "id": "ecb93e9f",
   "metadata": {},
   "outputs": [],
   "source": [
    "def test():\n",
    "#     print(\"f\")\n",
    "    return \"ff\".replace('\"','')"
   ]
  },
  {
   "cell_type": "code",
   "execution_count": 34,
   "id": "b29b6a07",
   "metadata": {},
   "outputs": [
    {
     "data": {
      "text/plain": [
       "'ff'"
      ]
     },
     "execution_count": 34,
     "metadata": {},
     "output_type": "execute_result"
    }
   ],
   "source": [
    "test()"
   ]
  },
  {
   "cell_type": "code",
   "execution_count": 2,
   "id": "db6ebb6f",
   "metadata": {},
   "outputs": [
    {
     "name": "stdout",
     "output_type": "stream",
     "text": [
      "enter first number1\n",
      "enter second no3\n",
      "sum of 1st and 2nd nos: 4\n"
     ]
    }
   ],
   "source": [
    "a=int(input(\"enter first number\"))\n",
    "b=int(input(\"enter second no\"))\n",
    "c=a+b\n",
    "print(\"sum of 1st and 2nd nos:\",c)"
   ]
  },
  {
   "cell_type": "code",
   "execution_count": 2,
   "id": "0e045a19",
   "metadata": {},
   "outputs": [
    {
     "name": "stdout",
     "output_type": "stream",
     "text": [
      "enter first number10\n",
      "enter second number0\n",
      "b should not be zero\n",
      "multiply val: 0\n"
     ]
    }
   ],
   "source": [
    "a=int(input(\"enter first number\"))\n",
    "b=int(input(\"enter second number\"))\n",
    "try:\n",
    "    c=a/b\n",
    "    print(\"div val\",c)\n",
    "except ZeroDivisionError:\n",
    "    print(\"b should not be zero\")\n",
    "d=a*b\n",
    "print(\"multiply val:\",d)"
   ]
  },
  {
   "cell_type": "markdown",
   "id": "b10923a2",
   "metadata": {},
   "source": [
    "# Write a program to ask the user to input 2 integers and calculate and print their division. Make sure your program behaves as follows:\n",
    "\n",
    "If the user enters a non integer value then ask him to enter only integers\n",
    "If denominator is 0 , then ask him to input non-zero denominator\n",
    "Repeat the process until correct input is given\n",
    "\n",
    "Only if the inputs are correct then display their division and terminate the code"
   ]
  },
  {
   "cell_type": "code",
   "execution_count": 9,
   "id": "cec22d19",
   "metadata": {},
   "outputs": [
    {
     "name": "stdout",
     "output_type": "stream",
     "text": [
      "enter numeratorp\n",
      "enter denominator1\n",
      "plz input number only\n",
      "enter numeratorw\n",
      "enter denominatorw\n",
      "plz input number only\n",
      "enter numerator1\n",
      "enter denominatore\n",
      "plz input number only\n",
      "enter numerator1\n",
      "enter denominator2\n",
      "div is: 0.5\n"
     ]
    }
   ],
   "source": [
    "while True:\n",
    "    a=input(\"enter numerator\")\n",
    "    b=input(\"enter denominator\")\n",
    "    if(a.isdigit() and b.isdigit()):        \n",
    "        try:\n",
    "            c=int(a)/int(b)\n",
    "            print(\"div is:\",c)\n",
    "            break\n",
    "        except ZeroDivisionError:\n",
    "            print(\"b should not be 0\")\n",
    "        except Exception as e:\n",
    "            print(e)\n",
    "    else:\n",
    "        print(\"plz input number only\")\n",
    "        \n",
    "        \n",
    "# while True:\n",
    "#     try:\n",
    "#         num1=int(input(\"Enter number1 \"))\n",
    "#         num2=int(input(\"Enter number2 \"))\n",
    "#         num3=num1/num2\n",
    "#         print(f\"The division of {num1} and {num2} is {num3}\")\n",
    "#         break\n",
    "#     except ValueError:\n",
    "#         print(\"Enter only integer values\")\n",
    "#         continue\n",
    "#     except ZeroDivisionError:\n",
    "#         print(\"Enter num2 value non zero\")\n",
    "#         continue"
   ]
  },
  {
   "cell_type": "code",
   "execution_count": 12,
   "id": "c34d1db8",
   "metadata": {},
   "outputs": [
    {
     "name": "stdout",
     "output_type": "stream",
     "text": [
      "enter numerator10\n",
      "enter denominator1\n",
      "div is: 10.0\n",
      "plz input number only\n"
     ]
    }
   ],
   "source": [
    "a=int(input(\"enter numerator\"))\n",
    "b=int(input(\"enter denominator\"))\n",
    "try:\n",
    "    c=a/b\n",
    "    print(\"div is:\",c)\n",
    "    d=a+str(b)\n",
    "    print(\"mul is:\",d)\n",
    "except ZeroDivisionError:\n",
    "    print(\"b should not be 0\")\n",
    "except TypeError:\n",
    "    print(\"plz input number only\")"
   ]
  },
  {
   "cell_type": "code",
   "execution_count": 14,
   "id": "6be30ae8",
   "metadata": {},
   "outputs": [
    {
     "name": "stdout",
     "output_type": "stream",
     "text": [
      "enter numerator10\n",
      "enter denominator1\n",
      "div is: 10.0\n",
      "b should not be 0 or plz input number only\n"
     ]
    }
   ],
   "source": [
    "a=int(input(\"enter numerator\"))\n",
    "b=int(input(\"enter denominator\"))\n",
    "try:\n",
    "    c=a/b\n",
    "    print(\"div is:\",c)\n",
    "    d=a+str(b)\n",
    "    print(\"mul is:\",d)\n",
    "except (ZeroDivisionError,TypeError):\n",
    "    print(\"b should not be 0 or plz input number only\")"
   ]
  },
  {
   "cell_type": "code",
   "execution_count": null,
   "id": "5dee9c43",
   "metadata": {},
   "outputs": [
    {
     "name": "stdout",
     "output_type": "stream",
     "text": [
      "first number:10\n",
      "second number:e\n",
      "(<class 'ValueError'>, ValueError(\"invalid literal for int() with base 10: 'e'\"), <traceback object at 0x000001D936E63100>)\n",
      "(<class 'KeyboardInterrupt'>, KeyboardInterrupt('Interrupted by user'), <traceback object at 0x000001D936E5FD40>)\n",
      "(<class 'KeyboardInterrupt'>, KeyboardInterrupt('Interrupted by user'), <traceback object at 0x000001D936E5C480>)\n"
     ]
    }
   ],
   "source": [
    "import sys\n",
    "while True:\n",
    "    try:\n",
    "        a=int(input(\"first number:\"))\n",
    "        b=int(input(\"second number:\"))\n",
    "        c=a/b\n",
    "        print(\"div:\", c)\n",
    "        break\n",
    "    except:\n",
    "        print(sys.exc_info())"
   ]
  },
  {
   "cell_type": "code",
   "execution_count": null,
   "id": "253cd592",
   "metadata": {},
   "outputs": [
    {
     "name": "stdout",
     "output_type": "stream",
     "text": [
      "first number:10\n",
      "second number:e\n",
      "exception class <class 'ValueError'>\n",
      "exception message invalid literal for int() with base 10: 'e'\n",
      "line number <traceback object at 0x00000237C02D0F80>\n"
     ]
    }
   ],
   "source": [
    "import sys\n",
    "while True:\n",
    "    try:\n",
    "        a=int(input(\"first number:\"))\n",
    "        b=int(input(\"second number:\"))\n",
    "        c=a/b\n",
    "        print(\"div:\", c)\n",
    "        break\n",
    "    except:\n",
    "        a,b,c=sys.exc_info()\n",
    "        print(\"exception class\", a)\n",
    "        print(\"exception message\", b)\n",
    "        print(\"line number\", c.tb_lineno)\n",
    "        "
   ]
  },
  {
   "cell_type": "code",
   "execution_count": 2,
   "id": "56bb9d94",
   "metadata": {},
   "outputs": [
    {
     "name": "stdout",
     "output_type": "stream",
     "text": [
      "enter numerator10\n",
      "enter denominator-3\n",
      "neg no not allowed\n",
      "enter numerator10\n",
      "enter denominatore\n",
      "please enter int only\n",
      "enter numerator10\n",
      "enter denominator0\n",
      "please enter non zero denomitor\n",
      "enter numerator10\n",
      "enter denominator2\n",
      "div is: 5.0\n"
     ]
    }
   ],
   "source": [
    "while True:\n",
    "    try:\n",
    "        a=int(input(\"enter numerator\"))\n",
    "        b=int(input(\"enter denominator\"))\n",
    "        if a<0 or b<0:        \n",
    "            raise Exception(\"neg no not allowed\")\n",
    "        c=a/b\n",
    "        print(\"div is:\",c)\n",
    "        break\n",
    "    except ValueError:\n",
    "        print(\"please enter int only\")\n",
    "    except ZeroDivisionError:\n",
    "        print(\"please enter non zero denominator\")\n",
    "    except Exception as e:\n",
    "        print(e)"
   ]
  },
  {
   "cell_type": "code",
   "execution_count": 2,
   "id": "f2b9b11e",
   "metadata": {},
   "outputs": [],
   "source": [
    "class NegativeNumberException(Exception):\n",
    "    pass"
   ]
  },
  {
   "cell_type": "code",
   "execution_count": 5,
   "id": "1259903b",
   "metadata": {},
   "outputs": [
    {
     "name": "stdout",
     "output_type": "stream",
     "text": [
      "enter numerator10\n",
      "enter denominator2\n",
      "div is: 5.0\n",
      "always prints\n"
     ]
    }
   ],
   "source": [
    "while True:\n",
    "    try:\n",
    "        a=int(input(\"enter numerator\"))\n",
    "        b=int(input(\"enter denominator\"))\n",
    "        if a<0 or b<0:        \n",
    "            raise NegativeNumberException(\"neg no not allowed\")\n",
    "        c=a/b\n",
    "        print(\"div is:\",c)\n",
    "        break\n",
    "    except ValueError:\n",
    "        print(\"please enter int only\")\n",
    "    except ZeroDivisionError:\n",
    "        print(\"please enter non zero denominator\")\n",
    "    except Exception as e:\n",
    "        print(e)\n",
    "    else:\n",
    "        print(\"no exception\")\n",
    "    finally:\n",
    "        print(\"always prints\")"
   ]
  },
  {
   "cell_type": "code",
   "execution_count": null,
   "id": "96a57402",
   "metadata": {},
   "outputs": [],
   "source": []
  }
 ],
 "metadata": {
  "kernelspec": {
   "display_name": "Python 3 (ipykernel)",
   "language": "python",
   "name": "python3"
  },
  "language_info": {
   "codemirror_mode": {
    "name": "ipython",
    "version": 3
   },
   "file_extension": ".py",
   "mimetype": "text/x-python",
   "name": "python",
   "nbconvert_exporter": "python",
   "pygments_lexer": "ipython3",
   "version": "3.9.7"
  }
 },
 "nbformat": 4,
 "nbformat_minor": 5
}
