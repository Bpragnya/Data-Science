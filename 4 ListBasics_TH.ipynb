{
 "cells": [
  {
   "cell_type": "markdown",
   "id": "5eff97c2",
   "metadata": {},
   "source": [
    "## Assignment4 Ans (Condidate_name: Pragnya Boosani)"
   ]
  },
  {
   "cell_type": "raw",
   "id": "705f028b",
   "metadata": {},
   "source": [
    "1. What exactly is []?\n",
    "ans: It is one of the collection data type called List."
   ]
  },
  {
   "cell_type": "raw",
   "id": "41b17984",
   "metadata": {},
   "source": [
    "2. In a list of values stored in a variable called spam, how would you assign the value 'hello' as the third value? (Assume [2, 4, 6, 8, 10] are in spam.)\n",
    "Let's pretend the spam includes the list ['a', 'b', 'c', 'd'] for the next three queries."
   ]
  },
  {
   "cell_type": "code",
   "execution_count": 2,
   "id": "8e6cc385",
   "metadata": {},
   "outputs": [
    {
     "data": {
      "text/plain": [
       "['a', 'b', 'hello', 'd']"
      ]
     },
     "execution_count": 2,
     "metadata": {},
     "output_type": "execute_result"
    }
   ],
   "source": [
    "spam = ['a', 'b', 'c', 'd']\n",
    "spam[2]='hello'\n",
    "spam"
   ]
  },
  {
   "cell_type": "raw",
   "id": "3104694b",
   "metadata": {},
   "source": [
    "3. What is the value of spam[int(int('3' * 2) / 11)]?"
   ]
  },
  {
   "cell_type": "code",
   "execution_count": 3,
   "id": "ddfa9b85",
   "metadata": {},
   "outputs": [
    {
     "data": {
      "text/plain": [
       "'d'"
      ]
     },
     "execution_count": 3,
     "metadata": {},
     "output_type": "execute_result"
    }
   ],
   "source": [
    "spam[int(int('3' * 2) / 11)] #int('3'*2)=> 33"
   ]
  },
  {
   "cell_type": "raw",
   "id": "f91a1bfc",
   "metadata": {},
   "source": [
    "4. What is the value of spam[-1]?"
   ]
  },
  {
   "cell_type": "code",
   "execution_count": 6,
   "id": "c5d7cf2a",
   "metadata": {},
   "outputs": [
    {
     "data": {
      "text/plain": [
       "'d'"
      ]
     },
     "execution_count": 6,
     "metadata": {},
     "output_type": "execute_result"
    }
   ],
   "source": [
    "spam[-1] #(reverse index starts with -1)"
   ]
  },
  {
   "cell_type": "raw",
   "id": "9f22e459",
   "metadata": {},
   "source": [
    "5. What is the value of spam[:2]?"
   ]
  },
  {
   "cell_type": "code",
   "execution_count": 4,
   "id": "cdc93112",
   "metadata": {},
   "outputs": [
    {
     "data": {
      "text/plain": [
       "['a', 'b']"
      ]
     },
     "execution_count": 4,
     "metadata": {},
     "output_type": "execute_result"
    }
   ],
   "source": [
    "spam[:2]#starts from 0 and ends before the index no mentioned"
   ]
  },
  {
   "cell_type": "code",
   "execution_count": null,
   "id": "e3635821",
   "metadata": {},
   "outputs": [],
   "source": [
    "Let's pretend bacon has the list [3.14, 'cat,' 11, 'cat,' True] for the next three questions.\n",
    "6. What is the value of bacon.index('cat')?"
   ]
  },
  {
   "cell_type": "code",
   "execution_count": 11,
   "id": "8a4c4356",
   "metadata": {},
   "outputs": [
    {
     "data": {
      "text/plain": [
       "1"
      ]
     },
     "execution_count": 11,
     "metadata": {},
     "output_type": "execute_result"
    }
   ],
   "source": [
    "bacon=[3.14, 'cat', 11, 'cat', True]\n",
    "bacon.index('cat') ## gives index of first occurance of the val given"
   ]
  },
  {
   "cell_type": "code",
   "execution_count": null,
   "id": "9a31acee",
   "metadata": {},
   "outputs": [],
   "source": [
    "7. How does bacon.append(99) change the look of the list value in bacon?\n",
    "Ans: bacon= [3.14, 'cat', 11, 'cat', True,99] ##appends at last"
   ]
  },
  {
   "cell_type": "raw",
   "id": "5eb5afa6",
   "metadata": {},
   "source": [
    "8. How does bacon.remove('cat') change the look of the list in bacon?\n",
    "ans: [3.14, 11, 'cat', True, 99] remove is used to delete first occurance of element value itself from the list"
   ]
  },
  {
   "cell_type": "raw",
   "id": "dea81ec4",
   "metadata": {},
   "source": [
    "9. What are the list concatenation and list replication operators?\n",
    "ans: list concatenation = +\n",
    "list replication = *"
   ]
  },
  {
   "cell_type": "raw",
   "id": "b1d2ecf6",
   "metadata": {},
   "source": [
    "10. What is difference between the list methods append() and insert()?\n",
    "Ans: append() is used to insert element at last and that too only one element at-a-time can be appended whereas insert() is used to insert element at particular index_no in the list"
   ]
  },
  {
   "cell_type": "raw",
   "id": "65eeb1a4",
   "metadata": {},
   "source": [
    "11. What are the two methods for removing items from a list?\n",
    "Ans: list.remove(<element val>) \n",
    "     list.pop(<index no>)\n",
    "     list.clear() -> to remove all elements \n",
    "        "
   ]
  },
  {
   "cell_type": "raw",
   "id": "8a7b39a7",
   "metadata": {},
   "source": [
    "12. Describe how list values and string values are identical.\n",
    "Ans: Both list and string values can be indexed."
   ]
  },
  {
   "cell_type": "raw",
   "id": "be832540",
   "metadata": {},
   "source": [
    "13. What's the difference between tuples and lists?\n",
    "Ans: Lists : Mutable, indexed, collection of diff type values, enclosed in []\n",
    "   tuple : Immutable, indexed, collection of diff type values, enclosed in ()"
   ]
  },
  {
   "cell_type": "raw",
   "id": "c269fd4a",
   "metadata": {},
   "source": [
    "14. How do you type a tuple value that only contains the integer 42?\n",
    "Ans: t= (42)"
   ]
  },
  {
   "cell_type": "raw",
   "id": "c22d8dbc",
   "metadata": {},
   "source": [
    "15. How do you get a list value's tuple form? How do you get a tuple value's list form?\n",
    "Ans: type casting"
   ]
  },
  {
   "cell_type": "code",
   "execution_count": 16,
   "id": "10c3eb3d",
   "metadata": {},
   "outputs": [
    {
     "data": {
      "text/plain": [
       "[1, 2, 3, 5]"
      ]
     },
     "execution_count": 16,
     "metadata": {},
     "output_type": "execute_result"
    }
   ],
   "source": [
    "t= (1,2,3,5)\n",
    "t1= list(t)\n",
    "t1"
   ]
  },
  {
   "cell_type": "code",
   "execution_count": 17,
   "id": "48bfb69b",
   "metadata": {},
   "outputs": [
    {
     "data": {
      "text/plain": [
       "(9, 4, 7, 9)"
      ]
     },
     "execution_count": 17,
     "metadata": {},
     "output_type": "execute_result"
    }
   ],
   "source": [
    "l=[9,4,7,9]\n",
    "t2=tuple(l)\n",
    "t2"
   ]
  },
  {
   "cell_type": "raw",
   "id": "5310bad1",
   "metadata": {},
   "source": [
    "16. Variables that \"contain\" list values are not necessarily lists themselves. Instead, what do they contain?\n",
    "SORRY NOT UNDERSTOOD THE QUESTION"
   ]
  },
  {
   "cell_type": "raw",
   "id": "f9da5cfd",
   "metadata": {},
   "source": [
    "17. How do you distinguish between copy.copy() and copy.deepcopy()?\n",
    "Ans: deepcopy() copies the entire object into another object along with values and here values are independent to original object resulting any changes made to copy donot reflect original object, where as copy() will acts like shallow copy which creates a new object but values are referenced from original object and resulting any changes made in copy will reflect original object as well.\n"
   ]
  }
 ],
 "metadata": {
  "kernelspec": {
   "display_name": "Python 3 (ipykernel)",
   "language": "python",
   "name": "python3"
  },
  "language_info": {
   "codemirror_mode": {
    "name": "ipython",
    "version": 3
   },
   "file_extension": ".py",
   "mimetype": "text/x-python",
   "name": "python",
   "nbconvert_exporter": "python",
   "pygments_lexer": "ipython3",
   "version": "3.9.7"
  }
 },
 "nbformat": 4,
 "nbformat_minor": 5
}
